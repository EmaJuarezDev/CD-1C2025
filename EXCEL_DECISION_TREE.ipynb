{
  "cells": [
    {
      "cell_type": "markdown",
      "metadata": {
        "id": "view-in-github",
        "colab_type": "text"
      },
      "source": [
        "<a href=\"https://colab.research.google.com/github/EmaJuarezDev/CD-1C2025/blob/main/EXCEL_DECISION_TREE.ipynb\" target=\"_parent\"><img src=\"https://colab.research.google.com/assets/colab-badge.svg\" alt=\"Open In Colab\"/></a>"
      ]
    },
    {
      "cell_type": "markdown",
      "metadata": {
        "id": "oyu6waNTbjzA"
      },
      "source": [
        "# Examen Práctico"
      ]
    },
    {
      "cell_type": "markdown",
      "source": [],
      "metadata": {
        "id": "Gj9ggihumxnk"
      }
    },
    {
      "cell_type": "markdown",
      "metadata": {
        "id": "NFbITruJbjzB"
      },
      "source": [
        "#### 01-3900 | Ciencia de datos | 2025"
      ]
    },
    {
      "cell_type": "markdown",
      "metadata": {
        "id": "eHVZLGrGbjzB"
      },
      "source": [
        "Alumno: Franco Garcete"
      ]
    },
    {
      "cell_type": "markdown",
      "metadata": {
        "id": "ndyVo1lgbjzB"
      },
      "source": [
        "## Enunciado"
      ]
    },
    {
      "cell_type": "markdown",
      "metadata": {
        "id": "uyEiWR_ObjzB"
      },
      "source": [
        "Se tienen un dataset con datos de pacientes internados en un hospital (TP_Virus_Alumnos.csv). La clase de interes (1) refiere a la presencia de un virus. El virus tiene normalmente una gravedad leve/baja y el tratamiento suele ser invasivo. Datos como nombre y apellido han sido eliminados y los valores tanto en sangre (BLD), hormonales u otros análisis sobre reactivos han sido alterados en sus valores para preservar la privacidad. Se aclara que no se ha modificado su capacidad predictiva (Si es que la tienen).\n"
      ]
    },
    {
      "cell_type": "markdown",
      "metadata": {
        "id": "KvxOznkZbjzC"
      },
      "source": [
        "Para su conocimiento: </BR>\n",
        "Datos generales de Edad, Peso, Altura y condición laboral (Activo, Pasivo etc).\n",
        "Datos medidos en hospital:</BR>\n",
        "BLD: Sangre</BR>\n",
        "LVL: Hormonales</BR>\n",
        "REC: Otros análisis</BR>\n",
        "\n",
        "Se pide obtener con los datos disponibles el mejor modelo posible que prediga la presencia o ausencia del virus.\n",
        "Dado que el tratamiento es invasivo y la grevedad es moderada se requiere \"atrapar\" tantos \"1\" como sea posible y minimizar los falsos positivos para evitar que reciban un tratamiento de estas caracteristicas personas que no presentan el virus. Intente obtener el mejor modelo que maximice la métrica que considere correspondiente.\n",
        "\n"
      ]
    },
    {
      "cell_type": "markdown",
      "metadata": {
        "id": "ToUL6cxGbjzC"
      },
      "source": [
        "## Como desarrollar el exámen"
      ]
    },
    {
      "cell_type": "markdown",
      "metadata": {
        "id": "75zCPD58bjzC"
      },
      "source": [
        "A partir del dataset realice todas las acciones para poder llegar al mejor modelo, explique brevemente en los fundamentos de sus transformaciones o acciones en general."
      ]
    },
    {
      "cell_type": "markdown",
      "metadata": {
        "id": "HKZz_S56bjzC"
      },
      "source": [
        "La nota derivará de: </BR>\n",
        "1.La calidad de la clasificación realizada</BR>\n",
        "2.La fundamentación de los pasos realizados</BR>\n",
        "3.Lo sencillo de llevar a producción el desarrollo</BR>\n",
        "\n"
      ]
    },
    {
      "cell_type": "markdown",
      "metadata": {
        "id": "C08Mxqy-bjzD"
      },
      "source": [
        "Los docentes evaluaran su clasificador utilizando un conjunto de datos del dataset \"fuera de la caja\" (out of the box, al que usted no tiene acceso). Para minimizar la posible diferencia entre su medición y la medición del docente recuerde y aplique conceptos de test, validación cruzada y evite los errores comunes de sesgo de selección y fuga de datos (Sklearn \"10. Common pitfalls and recommended practices\" disponible en \"https://scikit-learn.org/stable/common_pitfalls.html)\"   "
      ]
    },
    {
      "cell_type": "markdown",
      "metadata": {
        "id": "K6dWpkL4bjzD"
      },
      "source": [
        "Al final del notebook encontrará un bloque de código que lee la muestra adicional (a la que usted no tiene acceso) si PRODUCCION==True, en caso contrario solo lee una submuestra del conjunto original para validar que el código funciona. Desarrolle el notebook como considere para finalmente asignar el mejor clasificador o pipeline que usted haya obtenido remplazando en f_clf = None, None por su clasificador o pipeline. Si no utiliza un pipeline, implemente todas las transformaciones entre esa línea y la predicción final."
      ]
    },
    {
      "cell_type": "markdown",
      "metadata": {
        "id": "F1kqp1CAbjzD"
      },
      "source": [
        "Persista modelos si realiza procesos que demoren (Mas de 10 minutos es mucho), alternativamente si quiere realizar búsquedas exhaustivas de hiperparametros o variables explicite el procedimiento y luego utilice los valores obtenidos para ajustar un clasificador/regresor y que los tiempos sean posibles en la corrección. Todas las herramientas vistas en clase están disponibles. Verifique que los docentes pueden ejecutar su clasificador / regresor usando el código adjunto y los datos \"fuera de la caja\" para validar la calidad su modelo.  "
      ]
    },
    {
      "cell_type": "markdown",
      "metadata": {
        "id": "l1hxRUtPbjzD"
      },
      "source": [
        "En materiales del MIEL/GIT se adjuntan un notebooks con algunas ideas para automatizar el proceso (Pipelines/Transformadores customizados)."
      ]
    },
    {
      "cell_type": "markdown",
      "source": [
        "# Análisis Exploratorio\n"
      ],
      "metadata": {
        "id": "8k-Sgxc7t8eT"
      }
    },
    {
      "cell_type": "code",
      "source": [
        "import pandas as pd\n",
        "import seaborn as sns\n",
        "import matplotlib.pyplot as plt\n",
        "\n",
        "from sklearn.model_selection import train_test_split\n",
        "\n"
      ],
      "metadata": {
        "id": "CjoNOkSxKnkf"
      },
      "execution_count": null,
      "outputs": []
    },
    {
      "cell_type": "code",
      "source": [
        "df_virus = pd.read_csv(\"https://raw.githubusercontent.com/Franxx20/ciencia-de-datos-tp-parcial/refs/heads/main/TP_Virus_Alumnos.csv\", sep=\",\")\n",
        "df_virus.head(5)"
      ],
      "metadata": {
        "colab": {
          "base_uri": "https://localhost:8080/",
          "height": 206
        },
        "id": "oP0zNXKRK7of",
        "outputId": "636b7a33-9507-4ead-eb5d-cf84313db1c0"
      },
      "execution_count": null,
      "outputs": [
        {
          "output_type": "execute_result",
          "data": {
            "text/plain": [
              "   Edad     Genero        Peso     Laboral  hijos     BLD01      REC1  \\\n",
              "0   9.0   Femenino   36.410602    Inactivo      0  3.139714  6.929112   \n",
              "1  58.0  Masculino  115.507184    Inactivo      4  2.953914  4.660136   \n",
              "2  74.0  Masculino   81.249035      Activo      3  1.365200  3.005861   \n",
              "3   NaN  Masculino   77.985589  No_declara      0  2.329285  4.344642   \n",
              "4   1.0   Femenino   13.446208    Inactivo      0 -0.062975  3.938741   \n",
              "\n",
              "        REC2       REC3       REC4       REC5     BLD02     BLD03  \\\n",
              "0  63.712640  73.880613  15.087239  90.400193  2.015331  1.633836   \n",
              "1  64.582610  73.669319  14.503106  90.817947  0.973317 -0.439358   \n",
              "2  63.613454  75.103984  14.077988  91.741638  3.243344  0.380413   \n",
              "3  64.433115  73.402436  15.583846  91.741709  3.188290 -0.226046   \n",
              "4  65.122602  75.007982  16.961593  90.668625  2.729202  0.589698   \n",
              "\n",
              "              LVL  target  \n",
              "0       51.411632       0  \n",
              "1  1000000.000000       0  \n",
              "2  1000000.000000       1  \n",
              "3             NaN       0  \n",
              "4       21.627303       1  "
            ],
            "text/html": [
              "\n",
              "  <div id=\"df-71ecd7a5-444b-4c16-bcab-1ffc9df9ad9a\" class=\"colab-df-container\">\n",
              "    <div>\n",
              "<style scoped>\n",
              "    .dataframe tbody tr th:only-of-type {\n",
              "        vertical-align: middle;\n",
              "    }\n",
              "\n",
              "    .dataframe tbody tr th {\n",
              "        vertical-align: top;\n",
              "    }\n",
              "\n",
              "    .dataframe thead th {\n",
              "        text-align: right;\n",
              "    }\n",
              "</style>\n",
              "<table border=\"1\" class=\"dataframe\">\n",
              "  <thead>\n",
              "    <tr style=\"text-align: right;\">\n",
              "      <th></th>\n",
              "      <th>Edad</th>\n",
              "      <th>Genero</th>\n",
              "      <th>Peso</th>\n",
              "      <th>Laboral</th>\n",
              "      <th>hijos</th>\n",
              "      <th>BLD01</th>\n",
              "      <th>REC1</th>\n",
              "      <th>REC2</th>\n",
              "      <th>REC3</th>\n",
              "      <th>REC4</th>\n",
              "      <th>REC5</th>\n",
              "      <th>BLD02</th>\n",
              "      <th>BLD03</th>\n",
              "      <th>LVL</th>\n",
              "      <th>target</th>\n",
              "    </tr>\n",
              "  </thead>\n",
              "  <tbody>\n",
              "    <tr>\n",
              "      <th>0</th>\n",
              "      <td>9.0</td>\n",
              "      <td>Femenino</td>\n",
              "      <td>36.410602</td>\n",
              "      <td>Inactivo</td>\n",
              "      <td>0</td>\n",
              "      <td>3.139714</td>\n",
              "      <td>6.929112</td>\n",
              "      <td>63.712640</td>\n",
              "      <td>73.880613</td>\n",
              "      <td>15.087239</td>\n",
              "      <td>90.400193</td>\n",
              "      <td>2.015331</td>\n",
              "      <td>1.633836</td>\n",
              "      <td>51.411632</td>\n",
              "      <td>0</td>\n",
              "    </tr>\n",
              "    <tr>\n",
              "      <th>1</th>\n",
              "      <td>58.0</td>\n",
              "      <td>Masculino</td>\n",
              "      <td>115.507184</td>\n",
              "      <td>Inactivo</td>\n",
              "      <td>4</td>\n",
              "      <td>2.953914</td>\n",
              "      <td>4.660136</td>\n",
              "      <td>64.582610</td>\n",
              "      <td>73.669319</td>\n",
              "      <td>14.503106</td>\n",
              "      <td>90.817947</td>\n",
              "      <td>0.973317</td>\n",
              "      <td>-0.439358</td>\n",
              "      <td>1000000.000000</td>\n",
              "      <td>0</td>\n",
              "    </tr>\n",
              "    <tr>\n",
              "      <th>2</th>\n",
              "      <td>74.0</td>\n",
              "      <td>Masculino</td>\n",
              "      <td>81.249035</td>\n",
              "      <td>Activo</td>\n",
              "      <td>3</td>\n",
              "      <td>1.365200</td>\n",
              "      <td>3.005861</td>\n",
              "      <td>63.613454</td>\n",
              "      <td>75.103984</td>\n",
              "      <td>14.077988</td>\n",
              "      <td>91.741638</td>\n",
              "      <td>3.243344</td>\n",
              "      <td>0.380413</td>\n",
              "      <td>1000000.000000</td>\n",
              "      <td>1</td>\n",
              "    </tr>\n",
              "    <tr>\n",
              "      <th>3</th>\n",
              "      <td>NaN</td>\n",
              "      <td>Masculino</td>\n",
              "      <td>77.985589</td>\n",
              "      <td>No_declara</td>\n",
              "      <td>0</td>\n",
              "      <td>2.329285</td>\n",
              "      <td>4.344642</td>\n",
              "      <td>64.433115</td>\n",
              "      <td>73.402436</td>\n",
              "      <td>15.583846</td>\n",
              "      <td>91.741709</td>\n",
              "      <td>3.188290</td>\n",
              "      <td>-0.226046</td>\n",
              "      <td>NaN</td>\n",
              "      <td>0</td>\n",
              "    </tr>\n",
              "    <tr>\n",
              "      <th>4</th>\n",
              "      <td>1.0</td>\n",
              "      <td>Femenino</td>\n",
              "      <td>13.446208</td>\n",
              "      <td>Inactivo</td>\n",
              "      <td>0</td>\n",
              "      <td>-0.062975</td>\n",
              "      <td>3.938741</td>\n",
              "      <td>65.122602</td>\n",
              "      <td>75.007982</td>\n",
              "      <td>16.961593</td>\n",
              "      <td>90.668625</td>\n",
              "      <td>2.729202</td>\n",
              "      <td>0.589698</td>\n",
              "      <td>21.627303</td>\n",
              "      <td>1</td>\n",
              "    </tr>\n",
              "  </tbody>\n",
              "</table>\n",
              "</div>\n",
              "    <div class=\"colab-df-buttons\">\n",
              "\n",
              "  <div class=\"colab-df-container\">\n",
              "    <button class=\"colab-df-convert\" onclick=\"convertToInteractive('df-71ecd7a5-444b-4c16-bcab-1ffc9df9ad9a')\"\n",
              "            title=\"Convert this dataframe to an interactive table.\"\n",
              "            style=\"display:none;\">\n",
              "\n",
              "  <svg xmlns=\"http://www.w3.org/2000/svg\" height=\"24px\" viewBox=\"0 -960 960 960\">\n",
              "    <path d=\"M120-120v-720h720v720H120Zm60-500h600v-160H180v160Zm220 220h160v-160H400v160Zm0 220h160v-160H400v160ZM180-400h160v-160H180v160Zm440 0h160v-160H620v160ZM180-180h160v-160H180v160Zm440 0h160v-160H620v160Z\"/>\n",
              "  </svg>\n",
              "    </button>\n",
              "\n",
              "  <style>\n",
              "    .colab-df-container {\n",
              "      display:flex;\n",
              "      gap: 12px;\n",
              "    }\n",
              "\n",
              "    .colab-df-convert {\n",
              "      background-color: #E8F0FE;\n",
              "      border: none;\n",
              "      border-radius: 50%;\n",
              "      cursor: pointer;\n",
              "      display: none;\n",
              "      fill: #1967D2;\n",
              "      height: 32px;\n",
              "      padding: 0 0 0 0;\n",
              "      width: 32px;\n",
              "    }\n",
              "\n",
              "    .colab-df-convert:hover {\n",
              "      background-color: #E2EBFA;\n",
              "      box-shadow: 0px 1px 2px rgba(60, 64, 67, 0.3), 0px 1px 3px 1px rgba(60, 64, 67, 0.15);\n",
              "      fill: #174EA6;\n",
              "    }\n",
              "\n",
              "    .colab-df-buttons div {\n",
              "      margin-bottom: 4px;\n",
              "    }\n",
              "\n",
              "    [theme=dark] .colab-df-convert {\n",
              "      background-color: #3B4455;\n",
              "      fill: #D2E3FC;\n",
              "    }\n",
              "\n",
              "    [theme=dark] .colab-df-convert:hover {\n",
              "      background-color: #434B5C;\n",
              "      box-shadow: 0px 1px 3px 1px rgba(0, 0, 0, 0.15);\n",
              "      filter: drop-shadow(0px 1px 2px rgba(0, 0, 0, 0.3));\n",
              "      fill: #FFFFFF;\n",
              "    }\n",
              "  </style>\n",
              "\n",
              "    <script>\n",
              "      const buttonEl =\n",
              "        document.querySelector('#df-71ecd7a5-444b-4c16-bcab-1ffc9df9ad9a button.colab-df-convert');\n",
              "      buttonEl.style.display =\n",
              "        google.colab.kernel.accessAllowed ? 'block' : 'none';\n",
              "\n",
              "      async function convertToInteractive(key) {\n",
              "        const element = document.querySelector('#df-71ecd7a5-444b-4c16-bcab-1ffc9df9ad9a');\n",
              "        const dataTable =\n",
              "          await google.colab.kernel.invokeFunction('convertToInteractive',\n",
              "                                                    [key], {});\n",
              "        if (!dataTable) return;\n",
              "\n",
              "        const docLinkHtml = 'Like what you see? Visit the ' +\n",
              "          '<a target=\"_blank\" href=https://colab.research.google.com/notebooks/data_table.ipynb>data table notebook</a>'\n",
              "          + ' to learn more about interactive tables.';\n",
              "        element.innerHTML = '';\n",
              "        dataTable['output_type'] = 'display_data';\n",
              "        await google.colab.output.renderOutput(dataTable, element);\n",
              "        const docLink = document.createElement('div');\n",
              "        docLink.innerHTML = docLinkHtml;\n",
              "        element.appendChild(docLink);\n",
              "      }\n",
              "    </script>\n",
              "  </div>\n",
              "\n",
              "\n",
              "    <div id=\"df-77eff146-b3fd-4404-9ca8-2ec01da33544\">\n",
              "      <button class=\"colab-df-quickchart\" onclick=\"quickchart('df-77eff146-b3fd-4404-9ca8-2ec01da33544')\"\n",
              "                title=\"Suggest charts\"\n",
              "                style=\"display:none;\">\n",
              "\n",
              "<svg xmlns=\"http://www.w3.org/2000/svg\" height=\"24px\"viewBox=\"0 0 24 24\"\n",
              "     width=\"24px\">\n",
              "    <g>\n",
              "        <path d=\"M19 3H5c-1.1 0-2 .9-2 2v14c0 1.1.9 2 2 2h14c1.1 0 2-.9 2-2V5c0-1.1-.9-2-2-2zM9 17H7v-7h2v7zm4 0h-2V7h2v10zm4 0h-2v-4h2v4z\"/>\n",
              "    </g>\n",
              "</svg>\n",
              "      </button>\n",
              "\n",
              "<style>\n",
              "  .colab-df-quickchart {\n",
              "      --bg-color: #E8F0FE;\n",
              "      --fill-color: #1967D2;\n",
              "      --hover-bg-color: #E2EBFA;\n",
              "      --hover-fill-color: #174EA6;\n",
              "      --disabled-fill-color: #AAA;\n",
              "      --disabled-bg-color: #DDD;\n",
              "  }\n",
              "\n",
              "  [theme=dark] .colab-df-quickchart {\n",
              "      --bg-color: #3B4455;\n",
              "      --fill-color: #D2E3FC;\n",
              "      --hover-bg-color: #434B5C;\n",
              "      --hover-fill-color: #FFFFFF;\n",
              "      --disabled-bg-color: #3B4455;\n",
              "      --disabled-fill-color: #666;\n",
              "  }\n",
              "\n",
              "  .colab-df-quickchart {\n",
              "    background-color: var(--bg-color);\n",
              "    border: none;\n",
              "    border-radius: 50%;\n",
              "    cursor: pointer;\n",
              "    display: none;\n",
              "    fill: var(--fill-color);\n",
              "    height: 32px;\n",
              "    padding: 0;\n",
              "    width: 32px;\n",
              "  }\n",
              "\n",
              "  .colab-df-quickchart:hover {\n",
              "    background-color: var(--hover-bg-color);\n",
              "    box-shadow: 0 1px 2px rgba(60, 64, 67, 0.3), 0 1px 3px 1px rgba(60, 64, 67, 0.15);\n",
              "    fill: var(--button-hover-fill-color);\n",
              "  }\n",
              "\n",
              "  .colab-df-quickchart-complete:disabled,\n",
              "  .colab-df-quickchart-complete:disabled:hover {\n",
              "    background-color: var(--disabled-bg-color);\n",
              "    fill: var(--disabled-fill-color);\n",
              "    box-shadow: none;\n",
              "  }\n",
              "\n",
              "  .colab-df-spinner {\n",
              "    border: 2px solid var(--fill-color);\n",
              "    border-color: transparent;\n",
              "    border-bottom-color: var(--fill-color);\n",
              "    animation:\n",
              "      spin 1s steps(1) infinite;\n",
              "  }\n",
              "\n",
              "  @keyframes spin {\n",
              "    0% {\n",
              "      border-color: transparent;\n",
              "      border-bottom-color: var(--fill-color);\n",
              "      border-left-color: var(--fill-color);\n",
              "    }\n",
              "    20% {\n",
              "      border-color: transparent;\n",
              "      border-left-color: var(--fill-color);\n",
              "      border-top-color: var(--fill-color);\n",
              "    }\n",
              "    30% {\n",
              "      border-color: transparent;\n",
              "      border-left-color: var(--fill-color);\n",
              "      border-top-color: var(--fill-color);\n",
              "      border-right-color: var(--fill-color);\n",
              "    }\n",
              "    40% {\n",
              "      border-color: transparent;\n",
              "      border-right-color: var(--fill-color);\n",
              "      border-top-color: var(--fill-color);\n",
              "    }\n",
              "    60% {\n",
              "      border-color: transparent;\n",
              "      border-right-color: var(--fill-color);\n",
              "    }\n",
              "    80% {\n",
              "      border-color: transparent;\n",
              "      border-right-color: var(--fill-color);\n",
              "      border-bottom-color: var(--fill-color);\n",
              "    }\n",
              "    90% {\n",
              "      border-color: transparent;\n",
              "      border-bottom-color: var(--fill-color);\n",
              "    }\n",
              "  }\n",
              "</style>\n",
              "\n",
              "      <script>\n",
              "        async function quickchart(key) {\n",
              "          const quickchartButtonEl =\n",
              "            document.querySelector('#' + key + ' button');\n",
              "          quickchartButtonEl.disabled = true;  // To prevent multiple clicks.\n",
              "          quickchartButtonEl.classList.add('colab-df-spinner');\n",
              "          try {\n",
              "            const charts = await google.colab.kernel.invokeFunction(\n",
              "                'suggestCharts', [key], {});\n",
              "          } catch (error) {\n",
              "            console.error('Error during call to suggestCharts:', error);\n",
              "          }\n",
              "          quickchartButtonEl.classList.remove('colab-df-spinner');\n",
              "          quickchartButtonEl.classList.add('colab-df-quickchart-complete');\n",
              "        }\n",
              "        (() => {\n",
              "          let quickchartButtonEl =\n",
              "            document.querySelector('#df-77eff146-b3fd-4404-9ca8-2ec01da33544 button');\n",
              "          quickchartButtonEl.style.display =\n",
              "            google.colab.kernel.accessAllowed ? 'block' : 'none';\n",
              "        })();\n",
              "      </script>\n",
              "    </div>\n",
              "\n",
              "    </div>\n",
              "  </div>\n"
            ],
            "application/vnd.google.colaboratory.intrinsic+json": {
              "type": "dataframe",
              "variable_name": "df_virus",
              "summary": "{\n  \"name\": \"df_virus\",\n  \"rows\": 4200,\n  \"fields\": [\n    {\n      \"column\": \"Edad\",\n      \"properties\": {\n        \"dtype\": \"number\",\n        \"std\": 25.04881869164769,\n        \"min\": 0.0,\n        \"max\": 79.0,\n        \"num_unique_values\": 80,\n        \"samples\": [\n          40.0,\n          9.0,\n          10.0\n        ],\n        \"semantic_type\": \"\",\n        \"description\": \"\"\n      }\n    },\n    {\n      \"column\": \"Genero\",\n      \"properties\": {\n        \"dtype\": \"category\",\n        \"num_unique_values\": 3,\n        \"samples\": [\n          \"Femenino\",\n          \"Masculino\",\n          \"Otro\"\n        ],\n        \"semantic_type\": \"\",\n        \"description\": \"\"\n      }\n    },\n    {\n      \"column\": \"Peso\",\n      \"properties\": {\n        \"dtype\": \"number\",\n        \"std\": 25.792978834288792,\n        \"min\": 8.934178194834107,\n        \"max\": 128.85029745810107,\n        \"num_unique_values\": 4154,\n        \"samples\": [\n          101.03018752380062,\n          14.330729352004424,\n          81.66318061763663\n        ],\n        \"semantic_type\": \"\",\n        \"description\": \"\"\n      }\n    },\n    {\n      \"column\": \"Laboral\",\n      \"properties\": {\n        \"dtype\": \"category\",\n        \"num_unique_values\": 3,\n        \"samples\": [\n          \"Inactivo\",\n          \"Activo\",\n          \"No_declara\"\n        ],\n        \"semantic_type\": \"\",\n        \"description\": \"\"\n      }\n    },\n    {\n      \"column\": \"hijos\",\n      \"properties\": {\n        \"dtype\": \"number\",\n        \"std\": 1,\n        \"min\": 0,\n        \"max\": 5,\n        \"num_unique_values\": 6,\n        \"samples\": [\n          0,\n          4,\n          2\n        ],\n        \"semantic_type\": \"\",\n        \"description\": \"\"\n      }\n    },\n    {\n      \"column\": \"BLD01\",\n      \"properties\": {\n        \"dtype\": \"number\",\n        \"std\": 1.1619044460268733,\n        \"min\": -2.994894913962414,\n        \"max\": 5.684674545972798,\n        \"num_unique_values\": 4200,\n        \"samples\": [\n          0.3757815777873058,\n          0.6193322264311822,\n          0.6818153053101611\n        ],\n        \"semantic_type\": \"\",\n        \"description\": \"\"\n      }\n    },\n    {\n      \"column\": \"REC1\",\n      \"properties\": {\n        \"dtype\": \"number\",\n        \"std\": 0.9986909156293936,\n        \"min\": 0.2055331936333733,\n        \"max\": 7.512914900254897,\n        \"num_unique_values\": 4200,\n        \"samples\": [\n          2.961875574455345,\n          4.294339313350174,\n          0.2055331936333733\n        ],\n        \"semantic_type\": \"\",\n        \"description\": \"\"\n      }\n    },\n    {\n      \"column\": \"REC2\",\n      \"properties\": {\n        \"dtype\": \"number\",\n        \"std\": 1.0010913236371348,\n        \"min\": 60.89132976792195,\n        \"max\": 67.63506464534606,\n        \"num_unique_values\": 4200,\n        \"samples\": [\n          64.0487095389653,\n          64.40589965183645,\n          63.620073860853005\n        ],\n        \"semantic_type\": \"\",\n        \"description\": \"\"\n      }\n    },\n    {\n      \"column\": \"REC3\",\n      \"properties\": {\n        \"dtype\": \"number\",\n        \"std\": 1.0336384364023332,\n        \"min\": 69.16900990370988,\n        \"max\": 76.78385785014149,\n        \"num_unique_values\": 4200,\n        \"samples\": [\n          72.2706969107244,\n          72.52695166645383,\n          74.00321848707108\n        ],\n        \"semantic_type\": \"\",\n        \"description\": \"\"\n      }\n    },\n    {\n      \"column\": \"REC4\",\n      \"properties\": {\n        \"dtype\": \"number\",\n        \"std\": 1.0384518690724123,\n        \"min\": 10.522454665976063,\n        \"max\": 18.58191056397445,\n        \"num_unique_values\": 4200,\n        \"samples\": [\n          15.043639390531602,\n          15.105463661816346,\n          13.556008505307002\n        ],\n        \"semantic_type\": \"\",\n        \"description\": \"\"\n      }\n    },\n    {\n      \"column\": \"REC5\",\n      \"properties\": {\n        \"dtype\": \"number\",\n        \"std\": 1.0166609874711203,\n        \"min\": 86.49827298099409,\n        \"max\": 93.45909401064824,\n        \"num_unique_values\": 4200,\n        \"samples\": [\n          90.85984448152372,\n          89.98983320991618,\n          90.20353732001726\n        ],\n        \"semantic_type\": \"\",\n        \"description\": \"\"\n      }\n    },\n    {\n      \"column\": \"BLD02\",\n      \"properties\": {\n        \"dtype\": \"number\",\n        \"std\": 1.013155956663467,\n        \"min\": -3.081165755805334,\n        \"max\": 4.717948304432347,\n        \"num_unique_values\": 4200,\n        \"samples\": [\n          0.0774915030192024,\n          1.4997398472023025,\n          1.7064355701966964\n        ],\n        \"semantic_type\": \"\",\n        \"description\": \"\"\n      }\n    },\n    {\n      \"column\": \"BLD03\",\n      \"properties\": {\n        \"dtype\": \"number\",\n        \"std\": 0.9958714196688425,\n        \"min\": -3.627277483050016,\n        \"max\": 4.105408576271446,\n        \"num_unique_values\": 4200,\n        \"samples\": [\n          -0.2288075346864267,\n          1.0181830686865896,\n          -0.221466177914558\n        ],\n        \"semantic_type\": \"\",\n        \"description\": \"\"\n      }\n    },\n    {\n      \"column\": \"LVL\",\n      \"properties\": {\n        \"dtype\": \"number\",\n        \"std\": 418951.2184775677,\n        \"min\": -15.793610073901403,\n        \"max\": 1000000.0,\n        \"num_unique_values\": 2840,\n        \"samples\": [\n          52.97736273012022,\n          131.39984647094866,\n          88.2711283922093\n        ],\n        \"semantic_type\": \"\",\n        \"description\": \"\"\n      }\n    },\n    {\n      \"column\": \"target\",\n      \"properties\": {\n        \"dtype\": \"number\",\n        \"std\": 0,\n        \"min\": 0,\n        \"max\": 1,\n        \"num_unique_values\": 2,\n        \"samples\": [\n          1,\n          0\n        ],\n        \"semantic_type\": \"\",\n        \"description\": \"\"\n      }\n    }\n  ]\n}"
            }
          },
          "metadata": {},
          "execution_count": 2
        }
      ]
    },
    {
      "cell_type": "code",
      "source": [
        "# Verificamos los tipos de datos del dataframe\n",
        "df_virus.dtypes\n",
        "# Genero y Laboral son del tipo objeto por lo tanto por algun motivo pandas no ha sido capaz de clasificarlos, deberemos modificar esto mas adelante."
      ],
      "metadata": {
        "colab": {
          "base_uri": "https://localhost:8080/",
          "height": 554
        },
        "id": "SAJeQEweOCvN",
        "outputId": "08926dab-9c6a-4bb0-c183-70fe7a5c3938"
      },
      "execution_count": null,
      "outputs": [
        {
          "output_type": "execute_result",
          "data": {
            "text/plain": [
              "Edad       float64\n",
              "Genero      object\n",
              "Peso       float64\n",
              "Laboral     object\n",
              "hijos        int64\n",
              "BLD01      float64\n",
              "REC1       float64\n",
              "REC2       float64\n",
              "REC3       float64\n",
              "REC4       float64\n",
              "REC5       float64\n",
              "BLD02      float64\n",
              "BLD03      float64\n",
              "LVL        float64\n",
              "target       int64\n",
              "dtype: object"
            ],
            "text/html": [
              "<div>\n",
              "<style scoped>\n",
              "    .dataframe tbody tr th:only-of-type {\n",
              "        vertical-align: middle;\n",
              "    }\n",
              "\n",
              "    .dataframe tbody tr th {\n",
              "        vertical-align: top;\n",
              "    }\n",
              "\n",
              "    .dataframe thead th {\n",
              "        text-align: right;\n",
              "    }\n",
              "</style>\n",
              "<table border=\"1\" class=\"dataframe\">\n",
              "  <thead>\n",
              "    <tr style=\"text-align: right;\">\n",
              "      <th></th>\n",
              "      <th>0</th>\n",
              "    </tr>\n",
              "  </thead>\n",
              "  <tbody>\n",
              "    <tr>\n",
              "      <th>Edad</th>\n",
              "      <td>float64</td>\n",
              "    </tr>\n",
              "    <tr>\n",
              "      <th>Genero</th>\n",
              "      <td>object</td>\n",
              "    </tr>\n",
              "    <tr>\n",
              "      <th>Peso</th>\n",
              "      <td>float64</td>\n",
              "    </tr>\n",
              "    <tr>\n",
              "      <th>Laboral</th>\n",
              "      <td>object</td>\n",
              "    </tr>\n",
              "    <tr>\n",
              "      <th>hijos</th>\n",
              "      <td>int64</td>\n",
              "    </tr>\n",
              "    <tr>\n",
              "      <th>BLD01</th>\n",
              "      <td>float64</td>\n",
              "    </tr>\n",
              "    <tr>\n",
              "      <th>REC1</th>\n",
              "      <td>float64</td>\n",
              "    </tr>\n",
              "    <tr>\n",
              "      <th>REC2</th>\n",
              "      <td>float64</td>\n",
              "    </tr>\n",
              "    <tr>\n",
              "      <th>REC3</th>\n",
              "      <td>float64</td>\n",
              "    </tr>\n",
              "    <tr>\n",
              "      <th>REC4</th>\n",
              "      <td>float64</td>\n",
              "    </tr>\n",
              "    <tr>\n",
              "      <th>REC5</th>\n",
              "      <td>float64</td>\n",
              "    </tr>\n",
              "    <tr>\n",
              "      <th>BLD02</th>\n",
              "      <td>float64</td>\n",
              "    </tr>\n",
              "    <tr>\n",
              "      <th>BLD03</th>\n",
              "      <td>float64</td>\n",
              "    </tr>\n",
              "    <tr>\n",
              "      <th>LVL</th>\n",
              "      <td>float64</td>\n",
              "    </tr>\n",
              "    <tr>\n",
              "      <th>target</th>\n",
              "      <td>int64</td>\n",
              "    </tr>\n",
              "  </tbody>\n",
              "</table>\n",
              "</div><br><label><b>dtype:</b> object</label>"
            ]
          },
          "metadata": {},
          "execution_count": 3
        }
      ]
    },
    {
      "cell_type": "code",
      "source": [
        "print(\"Tamaño del dataframe : {}\".format(df_virus.shape))"
      ],
      "metadata": {
        "colab": {
          "base_uri": "https://localhost:8080/"
        },
        "id": "L1MG_hiGOTRS",
        "outputId": "87c2b033-17a1-44f9-c213-a3b461435d30"
      },
      "execution_count": null,
      "outputs": [
        {
          "output_type": "stream",
          "name": "stdout",
          "text": [
            "Tamaño del dataframe : (4200, 15)\n"
          ]
        }
      ]
    },
    {
      "cell_type": "code",
      "source": [
        "print(\"Porcentaje de valores nulos por atributo:\")\n",
        "print((df_virus.isnull().sum()/len(df_virus)*100).sort_values(ascending=False))\n",
        "\n",
        "# podemos ver que Genero, Edad y LVL poseen una gran cantidad de valores nulos. Como primera aproximacion probaremos con eleminar todos los registros con valores nulos.\n"
      ],
      "metadata": {
        "colab": {
          "base_uri": "https://localhost:8080/"
        },
        "id": "jmwmukBYPe2K",
        "outputId": "7f31ebce-8226-425c-f67a-d8a7807a494a"
      },
      "execution_count": null,
      "outputs": [
        {
          "output_type": "stream",
          "name": "stdout",
          "text": [
            "Porcentaje de valores nulos por atributo:\n",
            "Genero     40.047619\n",
            "Edad       19.571429\n",
            "LVL        12.547619\n",
            "Laboral     0.000000\n",
            "hijos       0.000000\n",
            "BLD01       0.000000\n",
            "Peso        0.000000\n",
            "REC1        0.000000\n",
            "REC2        0.000000\n",
            "REC4        0.000000\n",
            "REC3        0.000000\n",
            "REC5        0.000000\n",
            "BLD02       0.000000\n",
            "BLD03       0.000000\n",
            "target      0.000000\n",
            "dtype: float64\n"
          ]
        }
      ]
    },
    {
      "cell_type": "code",
      "source": [
        "print(\"Valores mínimos y máximos de edad:\")\n",
        "print(f\"Mínimo: {df_virus['Edad'].min()}\")\n",
        "print(f\"Máximo: {df_virus['Edad'].max()}\")\n",
        "\n",
        "print(\"Valores mínimos y máximos de LVL:\")\n",
        "print(f\"Mínimo: {df_virus['LVL'].min()}\")\n",
        "print(f\"Máximo: {df_virus['LVL'].max()}\")\n",
        "\n",
        "\n",
        "print(\"\\nValores únicos de laboral:\")\n",
        "print(df_virus['Laboral'].unique())\n",
        "print(df_virus['Laboral'].value_counts())\n",
        "print(\"\\nValores únicos de Genero:\")\n",
        "print(df_virus['Genero'].unique())\n",
        "print(df_virus['Genero'].value_counts())"
      ],
      "metadata": {
        "colab": {
          "base_uri": "https://localhost:8080/"
        },
        "id": "KQ-0_k4zSU3S",
        "outputId": "a1e3c3e1-840d-47d1-ee79-c58593b97dc1"
      },
      "execution_count": null,
      "outputs": [
        {
          "output_type": "stream",
          "name": "stdout",
          "text": [
            "Valores mínimos y máximos de edad:\n",
            "Mínimo: 0.0\n",
            "Máximo: 79.0\n",
            "Valores mínimos y máximos de LVL:\n",
            "Mínimo: -15.793610073901403\n",
            "Máximo: 1000000.0\n",
            "\n",
            "Valores únicos de laboral:\n",
            "['Inactivo' 'Activo' 'No_declara']\n",
            "Laboral\n",
            "Inactivo      2088\n",
            "Activo        1790\n",
            "No_declara     322\n",
            "Name: count, dtype: int64\n",
            "\n",
            "Valores únicos de Genero:\n",
            "['Femenino' 'Masculino' nan 'Otro']\n",
            "Genero\n",
            "Masculino    2159\n",
            "Femenino      320\n",
            "Otro           39\n",
            "Name: count, dtype: int64\n"
          ]
        }
      ]
    },
    {
      "cell_type": "code",
      "source": [
        "# prompt: input Edad and LVL to avoid nulls. Use IterativeImputer for Edad and KNNInputer or LVL\n",
        "\n",
        "from sklearn.experimental import enable_iterative_imputer\n",
        "from sklearn.impute import IterativeImputer, KNNImputer\n",
        "\n",
        "# Impute missing values for 'Edad' using IterativeImputer\n",
        "iterative_imputer = IterativeImputer(max_iter=10, random_state=0, n_nearest_features=2)\n",
        "df_virus['Edad'] = iterative_imputer.fit_transform(df_virus[['Edad']])\n",
        "\n",
        "# Impute missing values for 'LVL' using KNNImputer\n",
        "knn_imputer = KNNImputer(n_neighbors=5)\n",
        "df_virus['LVL'] = knn_imputer.fit_transform(df_virus[['LVL']])\n",
        "\n",
        "print(\"Porcentaje de valores nulos después de la imputación:\")\n",
        "print((df_virus.isnull().sum()/len(df_virus)*100).sort_values(ascending=False))\n"
      ],
      "metadata": {
        "colab": {
          "base_uri": "https://localhost:8080/"
        },
        "id": "ZR6mxgZRWXVY",
        "outputId": "93b92087-5851-471d-dd88-a2191814e941"
      },
      "execution_count": null,
      "outputs": [
        {
          "output_type": "stream",
          "name": "stdout",
          "text": [
            "Porcentaje de valores nulos después de la imputación:\n",
            "Genero     40.047619\n",
            "Edad        0.000000\n",
            "Peso        0.000000\n",
            "Laboral     0.000000\n",
            "hijos       0.000000\n",
            "BLD01       0.000000\n",
            "REC1        0.000000\n",
            "REC2        0.000000\n",
            "REC3        0.000000\n",
            "REC4        0.000000\n",
            "REC5        0.000000\n",
            "BLD02       0.000000\n",
            "BLD03       0.000000\n",
            "LVL         0.000000\n",
            "target      0.000000\n",
            "dtype: float64\n"
          ]
        }
      ]
    },
    {
      "cell_type": "code",
      "source": [
        "# # prompt: input Edad and LVL to avoid nulls. Use SimpleImputer for Edad and KNNInputer or LVL\n",
        "\n",
        "# from sklearn.impute import SimpleImputer, KNNImputer\n",
        "# import numpy as np\n",
        "\n",
        "# # Impute 'Edad' using SimpleImputer (e.g., with the mean)\n",
        "# imputer_mean = SimpleImputer(missing_values=np.nan, strategy='mean')\n",
        "# df_virus['Edad'] = imputer_mean.fit_transform(df_virus[['Edad']])\n",
        "\n",
        "# # Impute 'LVL' using KNNImputer\n",
        "# imputer_knn = KNNImputer(n_neighbors=5) # You can adjust the number of neighbors\n",
        "# df_virus['LVL'] = imputer_knn.fit_transform(df_virus[['LVL']])\n",
        "\n",
        "# # Verify that nulls have been handled\n",
        "# print(\"\\nPorcentaje de valores nulos por atributo after imputation:\")\n",
        "# print((df_virus.isnull().sum()/len(df_virus)*100).sort_values(ascending=False))"
      ],
      "metadata": {
        "id": "bJ8rWdg3VQ3S"
      },
      "execution_count": null,
      "outputs": []
    },
    {
      "cell_type": "code",
      "source": [
        "df_virus.drop(columns=['Genero'], inplace=True)"
      ],
      "metadata": {
        "id": "uFpwsOKlXuLc"
      },
      "execution_count": null,
      "outputs": []
    },
    {
      "cell_type": "code",
      "source": [
        "df_virus = df_virus.dropna()\n",
        "print(\"Tamaño del dataframe luego de eliminar valores nulos : {}\".format(df_virus.shape))\n",
        "# df_virus = df_virus[df_virus['Genero'] != 'Otro']\n",
        "print(\"Tamaño del dataframe luego de eliminar registros con genero Otro : {}\".format(df_virus.shape))\n",
        "\n",
        "# como podemos ver ahora poseemos una cantidad mucho menos de registros de entrenamiento. Si el nivel de precision final de entrenamiento es insuficiente probaremos con otra estrategia de imputacion mas personalizada"
      ],
      "metadata": {
        "colab": {
          "base_uri": "https://localhost:8080/"
        },
        "id": "YDm8TwDsZTbq",
        "outputId": "0838d3c5-d2fa-4bb7-ca97-1daaeca7d33a"
      },
      "execution_count": null,
      "outputs": [
        {
          "output_type": "stream",
          "name": "stdout",
          "text": [
            "Tamaño del dataframe luego de eliminar valores nulos : (4200, 14)\n",
            "Tamaño del dataframe luego de eliminar registros con genero Otro : (4200, 14)\n"
          ]
        }
      ]
    },
    {
      "cell_type": "code",
      "source": [
        "df_virus[\"Edad\"] = df_virus[\"Edad\"].astype(int)\n",
        "df_virus.dtypes"
      ],
      "metadata": {
        "colab": {
          "base_uri": "https://localhost:8080/",
          "height": 523
        },
        "id": "oL5e9K1LYV7y",
        "outputId": "3eeb1f85-9781-497a-f38c-6971cda32ac0"
      },
      "execution_count": null,
      "outputs": [
        {
          "output_type": "execute_result",
          "data": {
            "text/plain": [
              "Edad         int64\n",
              "Peso       float64\n",
              "Laboral     object\n",
              "hijos        int64\n",
              "BLD01      float64\n",
              "REC1       float64\n",
              "REC2       float64\n",
              "REC3       float64\n",
              "REC4       float64\n",
              "REC5       float64\n",
              "BLD02      float64\n",
              "BLD03      float64\n",
              "LVL        float64\n",
              "target       int64\n",
              "dtype: object"
            ],
            "text/html": [
              "<div>\n",
              "<style scoped>\n",
              "    .dataframe tbody tr th:only-of-type {\n",
              "        vertical-align: middle;\n",
              "    }\n",
              "\n",
              "    .dataframe tbody tr th {\n",
              "        vertical-align: top;\n",
              "    }\n",
              "\n",
              "    .dataframe thead th {\n",
              "        text-align: right;\n",
              "    }\n",
              "</style>\n",
              "<table border=\"1\" class=\"dataframe\">\n",
              "  <thead>\n",
              "    <tr style=\"text-align: right;\">\n",
              "      <th></th>\n",
              "      <th>0</th>\n",
              "    </tr>\n",
              "  </thead>\n",
              "  <tbody>\n",
              "    <tr>\n",
              "      <th>Edad</th>\n",
              "      <td>int64</td>\n",
              "    </tr>\n",
              "    <tr>\n",
              "      <th>Peso</th>\n",
              "      <td>float64</td>\n",
              "    </tr>\n",
              "    <tr>\n",
              "      <th>Laboral</th>\n",
              "      <td>object</td>\n",
              "    </tr>\n",
              "    <tr>\n",
              "      <th>hijos</th>\n",
              "      <td>int64</td>\n",
              "    </tr>\n",
              "    <tr>\n",
              "      <th>BLD01</th>\n",
              "      <td>float64</td>\n",
              "    </tr>\n",
              "    <tr>\n",
              "      <th>REC1</th>\n",
              "      <td>float64</td>\n",
              "    </tr>\n",
              "    <tr>\n",
              "      <th>REC2</th>\n",
              "      <td>float64</td>\n",
              "    </tr>\n",
              "    <tr>\n",
              "      <th>REC3</th>\n",
              "      <td>float64</td>\n",
              "    </tr>\n",
              "    <tr>\n",
              "      <th>REC4</th>\n",
              "      <td>float64</td>\n",
              "    </tr>\n",
              "    <tr>\n",
              "      <th>REC5</th>\n",
              "      <td>float64</td>\n",
              "    </tr>\n",
              "    <tr>\n",
              "      <th>BLD02</th>\n",
              "      <td>float64</td>\n",
              "    </tr>\n",
              "    <tr>\n",
              "      <th>BLD03</th>\n",
              "      <td>float64</td>\n",
              "    </tr>\n",
              "    <tr>\n",
              "      <th>LVL</th>\n",
              "      <td>float64</td>\n",
              "    </tr>\n",
              "    <tr>\n",
              "      <th>target</th>\n",
              "      <td>int64</td>\n",
              "    </tr>\n",
              "  </tbody>\n",
              "</table>\n",
              "</div><br><label><b>dtype:</b> object</label>"
            ]
          },
          "metadata": {},
          "execution_count": 11
        }
      ]
    },
    {
      "cell_type": "code",
      "source": [
        "# Analisis de la distribucion de la variabel target\n",
        "print(df_virus['target'].value_counts())\n",
        "sns.countplot(x='target', data=df_virus, hue='target', legend=\"full\")\n"
      ],
      "metadata": {
        "colab": {
          "base_uri": "https://localhost:8080/",
          "height": 541
        },
        "id": "Ag0CSCsjSuIh",
        "outputId": "41de2c8e-f3fc-4f97-8560-0fedae6896ad"
      },
      "execution_count": null,
      "outputs": [
        {
          "output_type": "stream",
          "name": "stdout",
          "text": [
            "target\n",
            "0    2493\n",
            "1    1707\n",
            "Name: count, dtype: int64\n"
          ]
        },
        {
          "output_type": "execute_result",
          "data": {
            "text/plain": [
              "<Axes: xlabel='target', ylabel='count'>"
            ]
          },
          "metadata": {},
          "execution_count": 12
        },
        {
          "output_type": "display_data",
          "data": {
            "text/plain": [
              "<Figure size 640x480 with 1 Axes>"
            ],
            "image/png": "[encoded data removed]"
          },
          "metadata": {}
        }
      ]
    },
    {
      "cell_type": "code",
      "source": [
        "plt.figure(figsize=(4, 8))\n",
        "s = sns.boxplot(x='target', y='Edad', data=df_virus, hue=\"target\", legend=\"full\")"
      ],
      "metadata": {
        "colab": {
          "base_uri": "https://localhost:8080/",
          "height": 696
        },
        "id": "UBPriJUtTKyp",
        "outputId": "55fe4385-d274-4e52-885f-0a098127ce38"
      },
      "execution_count": null,
      "outputs": [
        {
          "output_type": "display_data",
          "data": {
            "text/plain": [
              "<Figure size 400x800 with 1 Axes>"
            ],
            "image/png": "[encoded data removed]"
          },
          "metadata": {}
        }
      ]
    },
    {
      "cell_type": "code",
      "source": [
        "import matplotlib.pyplot as plt\n",
        "corr_matrix = df_virus.corr(numeric_only=True)\n",
        "plt.figure(figsize=(10, 8))\n",
        "sns.heatmap(corr_matrix, annot=True, cmap='coolwarm', fmt=\".2f\")\n",
        "plt.title('Correlation Matrix of Numerical Features')\n",
        "plt.show()"
      ],
      "metadata": {
        "colab": {
          "base_uri": "https://localhost:8080/",
          "height": 699
        },
        "id": "MnUatKzpXVoj",
        "outputId": "01be0be8-4005-41cb-9ca6-ad5ce1a9772c"
      },
      "execution_count": null,
      "outputs": [
        {
          "output_type": "display_data",
          "data": {
            "text/plain": [
              "<Figure size 1000x800 with 2 Axes>"
            ],
            "image/png": "[encoded data removed]"
          },
          "metadata": {}
        }
      ]
    },
    {
      "cell_type": "code",
      "source": [
        "sns.pairplot(df_virus, hue='target')\n",
        "plt.show()"
      ],
      "metadata": {
        "colab": {
          "base_uri": "https://localhost:8080/",
          "height": 164
        },
        "id": "vntzgrdWd3W0",
        "outputId": "0d7bf0fb-f4d0-4293-fbb9-abd390408b97"
      },
      "execution_count": null,
      "outputs": [
        {
          "output_type": "error",
          "ename": "NameError",
          "evalue": "name 'sns' is not defined",
          "traceback": [
            "\u001b[0;31m---------------------------------------------------------------------------\u001b[0m",
            "\u001b[0;31mNameError\u001b[0m                                 Traceback (most recent call last)",
            "\u001b[0;32m<ipython-input-4-1667629326>\u001b[0m in \u001b[0;36m<cell line: 0>\u001b[0;34m()\u001b[0m\n\u001b[0;32m----> 1\u001b[0;31m \u001b[0msns\u001b[0m\u001b[0;34m.\u001b[0m\u001b[0mpairplot\u001b[0m\u001b[0;34m(\u001b[0m\u001b[0mdf_virus\u001b[0m\u001b[0;34m,\u001b[0m \u001b[0mhue\u001b[0m\u001b[0;34m=\u001b[0m\u001b[0;34m'target'\u001b[0m\u001b[0;34m)\u001b[0m\u001b[0;34m\u001b[0m\u001b[0;34m\u001b[0m\u001b[0m\n\u001b[0m\u001b[1;32m      2\u001b[0m \u001b[0mplt\u001b[0m\u001b[0;34m.\u001b[0m\u001b[0mshow\u001b[0m\u001b[0;34m(\u001b[0m\u001b[0;34m)\u001b[0m\u001b[0;34m\u001b[0m\u001b[0;34m\u001b[0m\u001b[0m\n",
            "\u001b[0;31mNameError\u001b[0m: name 'sns' is not defined"
          ]
        }
      ]
    },
    {
      "cell_type": "code",
      "source": [
        "# prompt: generate a histogram of LVL\n",
        "\n",
        "import matplotlib.pyplot as plt\n",
        "plt.figure(figsize=(10, 6))\n",
        "sns.histplot(df_virus['LVL'], kde=True, bins=30)\n",
        "plt.title('Distribución de LVL')\n",
        "plt.xlabel('LVL')\n",
        "plt.ylabel('Frecuencia')\n",
        "plt.show()"
      ],
      "metadata": {
        "colab": {
          "base_uri": "https://localhost:8080/",
          "height": 564
        },
        "id": "kDljIyDdNXhg",
        "outputId": "84f020a5-1593-4ade-a298-b2a763cacae8"
      },
      "execution_count": null,
      "outputs": [
        {
          "output_type": "display_data",
          "data": {
            "text/plain": [
              "<Figure size 1000x600 with 1 Axes>"
            ],
            "image/png": "[encoded data removed]"
          },
          "metadata": {}
        }
      ]
    },
    {
      "cell_type": "code",
      "source": [
        "# prompt: generate a graph that could show how the LVL values are distributed\n",
        "\n",
        "import matplotlib.pyplot as plt\n",
        "# Visualize the distribution of LVL\n",
        "plt.figure(figsize=(10, 6))\n",
        "sns.histplot(df_virus['LVL'], kde=True, bins=30)\n",
        "plt.title('Distribution of LVL Values')\n",
        "plt.xlabel('LVL')\n",
        "plt.ylabel('Frequency')\n",
        "plt.show()\n",
        "\n",
        "plt.figure(figsize=(10, 6))\n",
        "sns.boxplot(y=df_virus['LVL'])\n",
        "plt.title('Boxplot of LVL Values')\n",
        "plt.ylabel('LVL')\n",
        "plt.show()\n",
        "\n",
        "plt.figure(figsize=(10, 6))\n",
        "sns.violinplot(y=df_virus['LVL'])\n",
        "plt.title('Violin Plot of LVL Values')\n",
        "plt.ylabel('LVL')\n",
        "plt.show()"
      ],
      "metadata": {
        "colab": {
          "base_uri": "https://localhost:8080/",
          "height": 228
        },
        "id": "yREP8tMesclv",
        "outputId": "66f83ece-4165-4adb-a8dd-4bc700dd1753"
      },
      "execution_count": null,
      "outputs": [
        {
          "output_type": "error",
          "ename": "NameError",
          "evalue": "name 'sns' is not defined",
          "traceback": [
            "\u001b[0;31m---------------------------------------------------------------------------\u001b[0m",
            "\u001b[0;31mNameError\u001b[0m                                 Traceback (most recent call last)",
            "\u001b[0;32m<ipython-input-1-3364935590>\u001b[0m in \u001b[0;36m<cell line: 0>\u001b[0;34m()\u001b[0m\n\u001b[1;32m      4\u001b[0m \u001b[0;31m# Visualize the distribution of LVL\u001b[0m\u001b[0;34m\u001b[0m\u001b[0;34m\u001b[0m\u001b[0m\n\u001b[1;32m      5\u001b[0m \u001b[0mplt\u001b[0m\u001b[0;34m.\u001b[0m\u001b[0mfigure\u001b[0m\u001b[0;34m(\u001b[0m\u001b[0mfigsize\u001b[0m\u001b[0;34m=\u001b[0m\u001b[0;34m(\u001b[0m\u001b[0;36m10\u001b[0m\u001b[0;34m,\u001b[0m \u001b[0;36m6\u001b[0m\u001b[0;34m)\u001b[0m\u001b[0;34m)\u001b[0m\u001b[0;34m\u001b[0m\u001b[0;34m\u001b[0m\u001b[0m\n\u001b[0;32m----> 6\u001b[0;31m \u001b[0msns\u001b[0m\u001b[0;34m.\u001b[0m\u001b[0mhistplot\u001b[0m\u001b[0;34m(\u001b[0m\u001b[0mdf_virus\u001b[0m\u001b[0;34m[\u001b[0m\u001b[0;34m'LVL'\u001b[0m\u001b[0;34m]\u001b[0m\u001b[0;34m,\u001b[0m \u001b[0mkde\u001b[0m\u001b[0;34m=\u001b[0m\u001b[0;32mTrue\u001b[0m\u001b[0;34m,\u001b[0m \u001b[0mbins\u001b[0m\u001b[0;34m=\u001b[0m\u001b[0;36m30\u001b[0m\u001b[0;34m)\u001b[0m\u001b[0;34m\u001b[0m\u001b[0;34m\u001b[0m\u001b[0m\n\u001b[0m\u001b[1;32m      7\u001b[0m \u001b[0mplt\u001b[0m\u001b[0;34m.\u001b[0m\u001b[0mtitle\u001b[0m\u001b[0;34m(\u001b[0m\u001b[0;34m'Distribution of LVL Values'\u001b[0m\u001b[0;34m)\u001b[0m\u001b[0;34m\u001b[0m\u001b[0;34m\u001b[0m\u001b[0m\n\u001b[1;32m      8\u001b[0m \u001b[0mplt\u001b[0m\u001b[0;34m.\u001b[0m\u001b[0mxlabel\u001b[0m\u001b[0;34m(\u001b[0m\u001b[0;34m'LVL'\u001b[0m\u001b[0;34m)\u001b[0m\u001b[0;34m\u001b[0m\u001b[0;34m\u001b[0m\u001b[0m\n",
            "\u001b[0;31mNameError\u001b[0m: name 'sns' is not defined"
          ]
        },
        {
          "output_type": "display_data",
          "data": {
            "text/plain": [
              "<Figure size 1000x600 with 0 Axes>"
            ]
          },
          "metadata": {}
        }
      ]
    },
    {
      "cell_type": "code",
      "source": [
        "# from sklearn.preprocessing import OneHotEncoder\n",
        "\n",
        "# onehot_encoder = OneHotEncoder(sparse_output=False)\n",
        "\n",
        "# # Fit and transform the 'Genero' and 'Laboral' columns\n",
        "# # Ensure the columns are treated as categorical by passing them as a list of lists or a DataFrame\n",
        "# encoded_features = onehot_encoder.fit_transform(df_virus[['Genero', 'Laboral']])\n",
        "\n",
        "# # Create a DataFrame from the encoded features with appropriate column names\n",
        "# # Get feature names after encoding\n",
        "# feature_names = onehot_encoder.get_feature_names_out(['Genero', 'Laboral'])\n",
        "# encoded_df = pd.DataFrame(encoded_features, columns=feature_names, index=df_virus.index)\n",
        "\n",
        "# # Concatenate the original dataframe with the encoded features\n",
        "# df_virus = pd.concat([df_virus, encoded_df], axis=1)\n",
        "\n",
        "# # Drop the original 'Genero' and 'Laboral' columns\n",
        "# df_virus = df_virus.drop(['Genero', 'Laboral'], axis=1)\n",
        "\n",
        "\n",
        "# print(df_virus.head())"
      ],
      "metadata": {
        "id": "ENFvpQKmaMSx"
      },
      "execution_count": null,
      "outputs": []
    },
    {
      "cell_type": "code",
      "source": [
        "from sklearn.preprocessing import OneHotEncoder\n",
        "\n",
        "onehot_encoder = OneHotEncoder(sparse_output=False)\n",
        "\n",
        "# Fit and transform the 'Genero' and 'Laboral' columns\n",
        "# Ensure the columns are treated as categorical by passing them as a list of lists or a DataFrame\n",
        "encoded_features = onehot_encoder.fit_transform(df_virus[['Laboral']])\n",
        "\n",
        "# Create a DataFrame from the encoded features with appropriate column names\n",
        "# Get feature names after encoding\n",
        "feature_names = onehot_encoder.get_feature_names_out(['Laboral'])\n",
        "encoded_df = pd.DataFrame(encoded_features, columns=feature_names, index=df_virus.index)\n",
        "\n",
        "# Concatenate the original dataframe with the encoded features\n",
        "df_virus = pd.concat([df_virus, encoded_df], axis=1)\n",
        "\n",
        "# Drop the original 'Genero' and 'Laboral' columns\n",
        "df_virus = df_virus.drop(['Laboral'], axis=1)\n",
        "\n",
        "\n",
        "print(df_virus.head())"
      ],
      "metadata": {
        "colab": {
          "base_uri": "https://localhost:8080/"
        },
        "id": "Zr61ZBUlYdrV",
        "outputId": "a22ee57b-88b2-4142-bf9c-adf0ed4255c9"
      },
      "execution_count": null,
      "outputs": [
        {
          "output_type": "stream",
          "name": "stdout",
          "text": [
            "   Edad        Peso  hijos     BLD01      REC1       REC2       REC3  \\\n",
            "0     9   36.410602      0  3.139714  6.929112  63.712640  73.880613   \n",
            "1    58  115.507184      4  2.953914  4.660136  64.582610  73.669319   \n",
            "2    74   81.249035      3  1.365200  3.005861  63.613454  75.103984   \n",
            "3    38   77.985589      0  2.329285  4.344642  64.433115  73.402436   \n",
            "4     1   13.446208      0 -0.062975  3.938741  65.122602  75.007982   \n",
            "\n",
            "        REC4       REC5     BLD02     BLD03             LVL  target  \\\n",
            "0  15.087239  90.400193  2.015331  1.633836       51.411632       0   \n",
            "1  14.503106  90.817947  0.973317 -0.439358  1000000.000000       0   \n",
            "2  14.077988  91.741638  3.243344  0.380413  1000000.000000       1   \n",
            "3  15.583846  91.741709  3.188290 -0.226046   227134.359847       0   \n",
            "4  16.961593  90.668625  2.729202  0.589698       21.627303       1   \n",
            "\n",
            "   Laboral_Activo  Laboral_Inactivo  Laboral_No_declara  \n",
            "0             0.0               1.0                 0.0  \n",
            "1             0.0               1.0                 0.0  \n",
            "2             1.0               0.0                 0.0  \n",
            "3             0.0               0.0                 1.0  \n",
            "4             0.0               1.0                 0.0  \n"
          ]
        }
      ]
    },
    {
      "cell_type": "code",
      "source": [
        "# prompt: show me how many rows hold a value of lvl from min value to 0.2, from 0.7 to highest value and the inbeetwen\n",
        "\n",
        "# Define the thresholds\n",
        "min_lvl = df_virus['LVL'].min()\n",
        "max_lvl = df_virus['LVL'].max()\n",
        "threshold1 = 0.2 * 1000000\n",
        "threshold2 = 0.7 * 1000000\n",
        "\n",
        "# Count rows in each range\n",
        "count_min_to_0_2 = df_virus[(df_virus['LVL'] <= threshold1)].shape[0]\n",
        "count_0_7_to_max = df_virus[(df_virus['LVL'] >= threshold2)].shape[0]\n",
        "count_between = df_virus[(df_virus['LVL'] > threshold1) & (df_virus['LVL'] < threshold2)].shape[0]\n",
        "\n",
        "# Print the counts\n",
        "print(f\"Number of rows with LVL between {min_lvl} and {threshold1}: {count_min_to_0_2}\")\n",
        "print(f\"Number of rows with LVL between {threshold2} and {max_lvl}: {count_0_7_to_max}\")\n",
        "print(f\"Number of rows with LVL between {threshold1} and {threshold2}: {count_between}\")"
      ],
      "metadata": {
        "colab": {
          "base_uri": "https://localhost:8080/"
        },
        "id": "6x8wzIfqAGw7",
        "outputId": "1d970397-d757-4f69-ae34-afc911c1aff9"
      },
      "execution_count": null,
      "outputs": [
        {
          "output_type": "stream",
          "name": "stdout",
          "text": [
            "Number of rows with LVL between -15.793610073901403 and 200000.0: 2839\n",
            "Number of rows with LVL between 700000.0 and 1000000.0: 834\n",
            "Number of rows with LVL between 200000.0 and 700000.0: 527\n"
          ]
        }
      ]
    },
    {
      "cell_type": "code",
      "source": [
        "# prompt: replace the column lvl with binding using the thresholds obtained before and apply one hot encoding to it\n",
        "\n",
        "import pandas as pd\n",
        "# Replace the 'LVL' column with 'binding' based on thresholds\n",
        "def categorize_lvl(lvl):\n",
        "  if lvl <= threshold1:\n",
        "    return 'low'\n",
        "  elif lvl >= threshold2:\n",
        "    return 'high'\n",
        "  else:\n",
        "    return 'medium'\n",
        "\n",
        "df_virus['binding'] = df_virus['LVL'].apply(categorize_lvl)\n",
        "\n",
        "# Drop the original 'LVL' column\n",
        "df_virus = df_virus.drop('LVL', axis=1)\n",
        "\n",
        "# Apply one-hot encoding to the new 'binding' column\n",
        "onehot_encoder_binding = OneHotEncoder(sparse_output=False)\n",
        "encoded_binding = onehot_encoder_binding.fit_transform(df_virus[['binding']])\n",
        "binding_feature_names = onehot_encoder_binding.get_feature_names_out(['binding'])\n",
        "encoded_binding_df = pd.DataFrame(encoded_binding, columns=binding_feature_names, index=df_virus.index)\n",
        "\n",
        "# Concatenate the original dataframe with the encoded binding column\n",
        "df_virus = pd.concat([df_virus, encoded_binding_df], axis=1)\n",
        "\n",
        "# Drop the original 'binding' column\n",
        "df_virus = df_virus.drop('binding', axis=1)\n",
        "\n",
        "print(df_virus.head())\n",
        "df_virus.columns\n"
      ],
      "metadata": {
        "colab": {
          "base_uri": "https://localhost:8080/"
        },
        "id": "xWST5cuHRm77",
        "outputId": "83d7c12a-6c6e-4bf3-d46a-baa94eba4a1c"
      },
      "execution_count": null,
      "outputs": [
        {
          "output_type": "stream",
          "name": "stdout",
          "text": [
            "   Edad        Peso  hijos     BLD01      REC1       REC2       REC3  \\\n",
            "0     9   36.410602      0  3.139714  6.929112  63.712640  73.880613   \n",
            "1    58  115.507184      4  2.953914  4.660136  64.582610  73.669319   \n",
            "2    74   81.249035      3  1.365200  3.005861  63.613454  75.103984   \n",
            "3    38   77.985589      0  2.329285  4.344642  64.433115  73.402436   \n",
            "4     1   13.446208      0 -0.062975  3.938741  65.122602  75.007982   \n",
            "\n",
            "        REC4       REC5     BLD02     BLD03  target  Laboral_Activo  \\\n",
            "0  15.087239  90.400193  2.015331  1.633836       0             0.0   \n",
            "1  14.503106  90.817947  0.973317 -0.439358       0             0.0   \n",
            "2  14.077988  91.741638  3.243344  0.380413       1             1.0   \n",
            "3  15.583846  91.741709  3.188290 -0.226046       0             0.0   \n",
            "4  16.961593  90.668625  2.729202  0.589698       1             0.0   \n",
            "\n",
            "   Laboral_Inactivo  Laboral_No_declara  binding_high  binding_low  \\\n",
            "0               1.0                 0.0           0.0          1.0   \n",
            "1               1.0                 0.0           1.0          0.0   \n",
            "2               0.0                 0.0           1.0          0.0   \n",
            "3               0.0                 1.0           0.0          0.0   \n",
            "4               1.0                 0.0           0.0          1.0   \n",
            "\n",
            "   binding_medium  \n",
            "0             0.0  \n",
            "1             0.0  \n",
            "2             0.0  \n",
            "3             1.0  \n",
            "4             0.0  \n"
          ]
        },
        {
          "output_type": "execute_result",
          "data": {
            "text/plain": [
              "Index(['Edad', 'Peso', 'hijos', 'BLD01', 'REC1', 'REC2', 'REC3', 'REC4',\n",
              "       'REC5', 'BLD02', 'BLD03', 'target', 'Laboral_Activo',\n",
              "       'Laboral_Inactivo', 'Laboral_No_declara', 'binding_high', 'binding_low',\n",
              "       'binding_medium'],\n",
              "      dtype='object')"
            ]
          },
          "metadata": {},
          "execution_count": 21
        }
      ]
    },
    {
      "cell_type": "code",
      "source": [
        "#df_virus = df_virus.drop(['LVL'], axis=1)"
      ],
      "metadata": {
        "id": "s5FIGS7zBW-b"
      },
      "execution_count": null,
      "outputs": []
    },
    {
      "cell_type": "markdown",
      "source": [
        "# Entrenamiento por decision tree\n"
      ],
      "metadata": {
        "id": "J3JNHt2h_Cbh"
      }
    },
    {
      "cell_type": "code",
      "source": [
        "x = df_virus.drop(\"target\", axis=1)\n",
        "y = df_virus[\"target\"]\n",
        "\n",
        "x_train, x_test, y_train, y_test = train_test_split(x, y, test_size=0.3, stratify = y, random_state=42)\n",
        "\n",
        "x.head(5)"
      ],
      "metadata": {
        "colab": {
          "base_uri": "https://localhost:8080/",
          "height": 206
        },
        "id": "VvzdkAYY4y8d",
        "outputId": "d63a4877-a7ed-484f-96c9-31effb285d00"
      },
      "execution_count": null,
      "outputs": [
        {
          "output_type": "execute_result",
          "data": {
            "text/plain": [
              "   Edad        Peso  hijos     BLD01      REC1       REC2       REC3  \\\n",
              "0     9   36.410602      0  3.139714  6.929112  63.712640  73.880613   \n",
              "1    58  115.507184      4  2.953914  4.660136  64.582610  73.669319   \n",
              "2    74   81.249035      3  1.365200  3.005861  63.613454  75.103984   \n",
              "3    38   77.985589      0  2.329285  4.344642  64.433115  73.402436   \n",
              "4     1   13.446208      0 -0.062975  3.938741  65.122602  75.007982   \n",
              "\n",
              "        REC4       REC5     BLD02     BLD03  Laboral_Activo  Laboral_Inactivo  \\\n",
              "0  15.087239  90.400193  2.015331  1.633836             0.0               1.0   \n",
              "1  14.503106  90.817947  0.973317 -0.439358             0.0               1.0   \n",
              "2  14.077988  91.741638  3.243344  0.380413             1.0               0.0   \n",
              "3  15.583846  91.741709  3.188290 -0.226046             0.0               0.0   \n",
              "4  16.961593  90.668625  2.729202  0.589698             0.0               1.0   \n",
              "\n",
              "   Laboral_No_declara  binding_high  binding_low  binding_medium  \n",
              "0                 0.0           0.0          1.0             0.0  \n",
              "1                 0.0           1.0          0.0             0.0  \n",
              "2                 0.0           1.0          0.0             0.0  \n",
              "3                 1.0           0.0          0.0             1.0  \n",
              "4                 0.0           0.0          1.0             0.0  "
            ],
            "text/html": [
              "\n",
              "  <div id=\"df-3eae8ad1-57c9-4d00-b91a-8869bae59dc2\" class=\"colab-df-container\">\n",
              "    <div>\n",
              "<style scoped>\n",
              "    .dataframe tbody tr th:only-of-type {\n",
              "        vertical-align: middle;\n",
              "    }\n",
              "\n",
              "    .dataframe tbody tr th {\n",
              "        vertical-align: top;\n",
              "    }\n",
              "\n",
              "    .dataframe thead th {\n",
              "        text-align: right;\n",
              "    }\n",
              "</style>\n",
              "<table border=\"1\" class=\"dataframe\">\n",
              "  <thead>\n",
              "    <tr style=\"text-align: right;\">\n",
              "      <th></th>\n",
              "      <th>Edad</th>\n",
              "      <th>Peso</th>\n",
              "      <th>hijos</th>\n",
              "      <th>BLD01</th>\n",
              "      <th>REC1</th>\n",
              "      <th>REC2</th>\n",
              "      <th>REC3</th>\n",
              "      <th>REC4</th>\n",
              "      <th>REC5</th>\n",
              "      <th>BLD02</th>\n",
              "      <th>BLD03</th>\n",
              "      <th>Laboral_Activo</th>\n",
              "      <th>Laboral_Inactivo</th>\n",
              "      <th>Laboral_No_declara</th>\n",
              "      <th>binding_high</th>\n",
              "      <th>binding_low</th>\n",
              "      <th>binding_medium</th>\n",
              "    </tr>\n",
              "  </thead>\n",
              "  <tbody>\n",
              "    <tr>\n",
              "      <th>0</th>\n",
              "      <td>9</td>\n",
              "      <td>36.410602</td>\n",
              "      <td>0</td>\n",
              "      <td>3.139714</td>\n",
              "      <td>6.929112</td>\n",
              "      <td>63.712640</td>\n",
              "      <td>73.880613</td>\n",
              "      <td>15.087239</td>\n",
              "      <td>90.400193</td>\n",
              "      <td>2.015331</td>\n",
              "      <td>1.633836</td>\n",
              "      <td>0.0</td>\n",
              "      <td>1.0</td>\n",
              "      <td>0.0</td>\n",
              "      <td>0.0</td>\n",
              "      <td>1.0</td>\n",
              "      <td>0.0</td>\n",
              "    </tr>\n",
              "    <tr>\n",
              "      <th>1</th>\n",
              "      <td>58</td>\n",
              "      <td>115.507184</td>\n",
              "      <td>4</td>\n",
              "      <td>2.953914</td>\n",
              "      <td>4.660136</td>\n",
              "      <td>64.582610</td>\n",
              "      <td>73.669319</td>\n",
              "      <td>14.503106</td>\n",
              "      <td>90.817947</td>\n",
              "      <td>0.973317</td>\n",
              "      <td>-0.439358</td>\n",
              "      <td>0.0</td>\n",
              "      <td>1.0</td>\n",
              "      <td>0.0</td>\n",
              "      <td>1.0</td>\n",
              "      <td>0.0</td>\n",
              "      <td>0.0</td>\n",
              "    </tr>\n",
              "    <tr>\n",
              "      <th>2</th>\n",
              "      <td>74</td>\n",
              "      <td>81.249035</td>\n",
              "      <td>3</td>\n",
              "      <td>1.365200</td>\n",
              "      <td>3.005861</td>\n",
              "      <td>63.613454</td>\n",
              "      <td>75.103984</td>\n",
              "      <td>14.077988</td>\n",
              "      <td>91.741638</td>\n",
              "      <td>3.243344</td>\n",
              "      <td>0.380413</td>\n",
              "      <td>1.0</td>\n",
              "      <td>0.0</td>\n",
              "      <td>0.0</td>\n",
              "      <td>1.0</td>\n",
              "      <td>0.0</td>\n",
              "      <td>0.0</td>\n",
              "    </tr>\n",
              "    <tr>\n",
              "      <th>3</th>\n",
              "      <td>38</td>\n",
              "      <td>77.985589</td>\n",
              "      <td>0</td>\n",
              "      <td>2.329285</td>\n",
              "      <td>4.344642</td>\n",
              "      <td>64.433115</td>\n",
              "      <td>73.402436</td>\n",
              "      <td>15.583846</td>\n",
              "      <td>91.741709</td>\n",
              "      <td>3.188290</td>\n",
              "      <td>-0.226046</td>\n",
              "      <td>0.0</td>\n",
              "      <td>0.0</td>\n",
              "      <td>1.0</td>\n",
              "      <td>0.0</td>\n",
              "      <td>0.0</td>\n",
              "      <td>1.0</td>\n",
              "    </tr>\n",
              "    <tr>\n",
              "      <th>4</th>\n",
              "      <td>1</td>\n",
              "      <td>13.446208</td>\n",
              "      <td>0</td>\n",
              "      <td>-0.062975</td>\n",
              "      <td>3.938741</td>\n",
              "      <td>65.122602</td>\n",
              "      <td>75.007982</td>\n",
              "      <td>16.961593</td>\n",
              "      <td>90.668625</td>\n",
              "      <td>2.729202</td>\n",
              "      <td>0.589698</td>\n",
              "      <td>0.0</td>\n",
              "      <td>1.0</td>\n",
              "      <td>0.0</td>\n",
              "      <td>0.0</td>\n",
              "      <td>1.0</td>\n",
              "      <td>0.0</td>\n",
              "    </tr>\n",
              "  </tbody>\n",
              "</table>\n",
              "</div>\n",
              "    <div class=\"colab-df-buttons\">\n",
              "\n",
              "  <div class=\"colab-df-container\">\n",
              "    <button class=\"colab-df-convert\" onclick=\"convertToInteractive('df-3eae8ad1-57c9-4d00-b91a-8869bae59dc2')\"\n",
              "            title=\"Convert this dataframe to an interactive table.\"\n",
              "            style=\"display:none;\">\n",
              "\n",
              "  <svg xmlns=\"http://www.w3.org/2000/svg\" height=\"24px\" viewBox=\"0 -960 960 960\">\n",
              "    <path d=\"M120-120v-720h720v720H120Zm60-500h600v-160H180v160Zm220 220h160v-160H400v160Zm0 220h160v-160H400v160ZM180-400h160v-160H180v160Zm440 0h160v-160H620v160ZM180-180h160v-160H180v160Zm440 0h160v-160H620v160Z\"/>\n",
              "  </svg>\n",
              "    </button>\n",
              "\n",
              "  <style>\n",
              "    .colab-df-container {\n",
              "      display:flex;\n",
              "      gap: 12px;\n",
              "    }\n",
              "\n",
              "    .colab-df-convert {\n",
              "      background-color: #E8F0FE;\n",
              "      border: none;\n",
              "      border-radius: 50%;\n",
              "      cursor: pointer;\n",
              "      display: none;\n",
              "      fill: #1967D2;\n",
              "      height: 32px;\n",
              "      padding: 0 0 0 0;\n",
              "      width: 32px;\n",
              "    }\n",
              "\n",
              "    .colab-df-convert:hover {\n",
              "      background-color: #E2EBFA;\n",
              "      box-shadow: 0px 1px 2px rgba(60, 64, 67, 0.3), 0px 1px 3px 1px rgba(60, 64, 67, 0.15);\n",
              "      fill: #174EA6;\n",
              "    }\n",
              "\n",
              "    .colab-df-buttons div {\n",
              "      margin-bottom: 4px;\n",
              "    }\n",
              "\n",
              "    [theme=dark] .colab-df-convert {\n",
              "      background-color: #3B4455;\n",
              "      fill: #D2E3FC;\n",
              "    }\n",
              "\n",
              "    [theme=dark] .colab-df-convert:hover {\n",
              "      background-color: #434B5C;\n",
              "      box-shadow: 0px 1px 3px 1px rgba(0, 0, 0, 0.15);\n",
              "      filter: drop-shadow(0px 1px 2px rgba(0, 0, 0, 0.3));\n",
              "      fill: #FFFFFF;\n",
              "    }\n",
              "  </style>\n",
              "\n",
              "    <script>\n",
              "      const buttonEl =\n",
              "        document.querySelector('#df-3eae8ad1-57c9-4d00-b91a-8869bae59dc2 button.colab-df-convert');\n",
              "      buttonEl.style.display =\n",
              "        google.colab.kernel.accessAllowed ? 'block' : 'none';\n",
              "\n",
              "      async function convertToInteractive(key) {\n",
              "        const element = document.querySelector('#df-3eae8ad1-57c9-4d00-b91a-8869bae59dc2');\n",
              "        const dataTable =\n",
              "          await google.colab.kernel.invokeFunction('convertToInteractive',\n",
              "                                                    [key], {});\n",
              "        if (!dataTable) return;\n",
              "\n",
              "        const docLinkHtml = 'Like what you see? Visit the ' +\n",
              "          '<a target=\"_blank\" href=https://colab.research.google.com/notebooks/data_table.ipynb>data table notebook</a>'\n",
              "          + ' to learn more about interactive tables.';\n",
              "        element.innerHTML = '';\n",
              "        dataTable['output_type'] = 'display_data';\n",
              "        await google.colab.output.renderOutput(dataTable, element);\n",
              "        const docLink = document.createElement('div');\n",
              "        docLink.innerHTML = docLinkHtml;\n",
              "        element.appendChild(docLink);\n",
              "      }\n",
              "    </script>\n",
              "  </div>\n",
              "\n",
              "\n",
              "    <div id=\"df-812c2faf-6870-43ba-8aba-ad416d2a0079\">\n",
              "      <button class=\"colab-df-quickchart\" onclick=\"quickchart('df-812c2faf-6870-43ba-8aba-ad416d2a0079')\"\n",
              "                title=\"Suggest charts\"\n",
              "                style=\"display:none;\">\n",
              "\n",
              "<svg xmlns=\"http://www.w3.org/2000/svg\" height=\"24px\"viewBox=\"0 0 24 24\"\n",
              "     width=\"24px\">\n",
              "    <g>\n",
              "        <path d=\"M19 3H5c-1.1 0-2 .9-2 2v14c0 1.1.9 2 2 2h14c1.1 0 2-.9 2-2V5c0-1.1-.9-2-2-2zM9 17H7v-7h2v7zm4 0h-2V7h2v10zm4 0h-2v-4h2v4z\"/>\n",
              "    </g>\n",
              "</svg>\n",
              "      </button>\n",
              "\n",
              "<style>\n",
              "  .colab-df-quickchart {\n",
              "      --bg-color: #E8F0FE;\n",
              "      --fill-color: #1967D2;\n",
              "      --hover-bg-color: #E2EBFA;\n",
              "      --hover-fill-color: #174EA6;\n",
              "      --disabled-fill-color: #AAA;\n",
              "      --disabled-bg-color: #DDD;\n",
              "  }\n",
              "\n",
              "  [theme=dark] .colab-df-quickchart {\n",
              "      --bg-color: #3B4455;\n",
              "      --fill-color: #D2E3FC;\n",
              "      --hover-bg-color: #434B5C;\n",
              "      --hover-fill-color: #FFFFFF;\n",
              "      --disabled-bg-color: #3B4455;\n",
              "      --disabled-fill-color: #666;\n",
              "  }\n",
              "\n",
              "  .colab-df-quickchart {\n",
              "    background-color: var(--bg-color);\n",
              "    border: none;\n",
              "    border-radius: 50%;\n",
              "    cursor: pointer;\n",
              "    display: none;\n",
              "    fill: var(--fill-color);\n",
              "    height: 32px;\n",
              "    padding: 0;\n",
              "    width: 32px;\n",
              "  }\n",
              "\n",
              "  .colab-df-quickchart:hover {\n",
              "    background-color: var(--hover-bg-color);\n",
              "    box-shadow: 0 1px 2px rgba(60, 64, 67, 0.3), 0 1px 3px 1px rgba(60, 64, 67, 0.15);\n",
              "    fill: var(--button-hover-fill-color);\n",
              "  }\n",
              "\n",
              "  .colab-df-quickchart-complete:disabled,\n",
              "  .colab-df-quickchart-complete:disabled:hover {\n",
              "    background-color: var(--disabled-bg-color);\n",
              "    fill: var(--disabled-fill-color);\n",
              "    box-shadow: none;\n",
              "  }\n",
              "\n",
              "  .colab-df-spinner {\n",
              "    border: 2px solid var(--fill-color);\n",
              "    border-color: transparent;\n",
              "    border-bottom-color: var(--fill-color);\n",
              "    animation:\n",
              "      spin 1s steps(1) infinite;\n",
              "  }\n",
              "\n",
              "  @keyframes spin {\n",
              "    0% {\n",
              "      border-color: transparent;\n",
              "      border-bottom-color: var(--fill-color);\n",
              "      border-left-color: var(--fill-color);\n",
              "    }\n",
              "    20% {\n",
              "      border-color: transparent;\n",
              "      border-left-color: var(--fill-color);\n",
              "      border-top-color: var(--fill-color);\n",
              "    }\n",
              "    30% {\n",
              "      border-color: transparent;\n",
              "      border-left-color: var(--fill-color);\n",
              "      border-top-color: var(--fill-color);\n",
              "      border-right-color: var(--fill-color);\n",
              "    }\n",
              "    40% {\n",
              "      border-color: transparent;\n",
              "      border-right-color: var(--fill-color);\n",
              "      border-top-color: var(--fill-color);\n",
              "    }\n",
              "    60% {\n",
              "      border-color: transparent;\n",
              "      border-right-color: var(--fill-color);\n",
              "    }\n",
              "    80% {\n",
              "      border-color: transparent;\n",
              "      border-right-color: var(--fill-color);\n",
              "      border-bottom-color: var(--fill-color);\n",
              "    }\n",
              "    90% {\n",
              "      border-color: transparent;\n",
              "      border-bottom-color: var(--fill-color);\n",
              "    }\n",
              "  }\n",
              "</style>\n",
              "\n",
              "      <script>\n",
              "        async function quickchart(key) {\n",
              "          const quickchartButtonEl =\n",
              "            document.querySelector('#' + key + ' button');\n",
              "          quickchartButtonEl.disabled = true;  // To prevent multiple clicks.\n",
              "          quickchartButtonEl.classList.add('colab-df-spinner');\n",
              "          try {\n",
              "            const charts = await google.colab.kernel.invokeFunction(\n",
              "                'suggestCharts', [key], {});\n",
              "          } catch (error) {\n",
              "            console.error('Error during call to suggestCharts:', error);\n",
              "          }\n",
              "          quickchartButtonEl.classList.remove('colab-df-spinner');\n",
              "          quickchartButtonEl.classList.add('colab-df-quickchart-complete');\n",
              "        }\n",
              "        (() => {\n",
              "          let quickchartButtonEl =\n",
              "            document.querySelector('#df-812c2faf-6870-43ba-8aba-ad416d2a0079 button');\n",
              "          quickchartButtonEl.style.display =\n",
              "            google.colab.kernel.accessAllowed ? 'block' : 'none';\n",
              "        })();\n",
              "      </script>\n",
              "    </div>\n",
              "\n",
              "    </div>\n",
              "  </div>\n"
            ],
            "application/vnd.google.colaboratory.intrinsic+json": {
              "type": "dataframe",
              "variable_name": "x",
              "summary": "{\n  \"name\": \"x\",\n  \"rows\": 4200,\n  \"fields\": [\n    {\n      \"column\": \"Edad\",\n      \"properties\": {\n        \"dtype\": \"number\",\n        \"std\": 22,\n        \"min\": 0,\n        \"max\": 79,\n        \"num_unique_values\": 80,\n        \"samples\": [\n          57,\n          9,\n          6\n        ],\n        \"semantic_type\": \"\",\n        \"description\": \"\"\n      }\n    },\n    {\n      \"column\": \"Peso\",\n      \"properties\": {\n        \"dtype\": \"number\",\n        \"std\": 25.792978834288792,\n        \"min\": 8.934178194834107,\n        \"max\": 128.85029745810107,\n        \"num_unique_values\": 4154,\n        \"samples\": [\n          101.03018752380062,\n          14.330729352004424,\n          81.66318061763663\n        ],\n        \"semantic_type\": \"\",\n        \"description\": \"\"\n      }\n    },\n    {\n      \"column\": \"hijos\",\n      \"properties\": {\n        \"dtype\": \"number\",\n        \"std\": 1,\n        \"min\": 0,\n        \"max\": 5,\n        \"num_unique_values\": 6,\n        \"samples\": [\n          0,\n          4,\n          2\n        ],\n        \"semantic_type\": \"\",\n        \"description\": \"\"\n      }\n    },\n    {\n      \"column\": \"BLD01\",\n      \"properties\": {\n        \"dtype\": \"number\",\n        \"std\": 1.1619044460268733,\n        \"min\": -2.994894913962414,\n        \"max\": 5.684674545972798,\n        \"num_unique_values\": 4200,\n        \"samples\": [\n          0.3757815777873058,\n          0.6193322264311822,\n          0.6818153053101611\n        ],\n        \"semantic_type\": \"\",\n        \"description\": \"\"\n      }\n    },\n    {\n      \"column\": \"REC1\",\n      \"properties\": {\n        \"dtype\": \"number\",\n        \"std\": 0.9986909156293936,\n        \"min\": 0.2055331936333733,\n        \"max\": 7.512914900254897,\n        \"num_unique_values\": 4200,\n        \"samples\": [\n          2.961875574455345,\n          4.294339313350174,\n          0.2055331936333733\n        ],\n        \"semantic_type\": \"\",\n        \"description\": \"\"\n      }\n    },\n    {\n      \"column\": \"REC2\",\n      \"properties\": {\n        \"dtype\": \"number\",\n        \"std\": 1.0010913236371348,\n        \"min\": 60.89132976792195,\n        \"max\": 67.63506464534606,\n        \"num_unique_values\": 4200,\n        \"samples\": [\n          64.0487095389653,\n          64.40589965183645,\n          63.620073860853005\n        ],\n        \"semantic_type\": \"\",\n        \"description\": \"\"\n      }\n    },\n    {\n      \"column\": \"REC3\",\n      \"properties\": {\n        \"dtype\": \"number\",\n        \"std\": 1.0336384364023332,\n        \"min\": 69.16900990370988,\n        \"max\": 76.78385785014149,\n        \"num_unique_values\": 4200,\n        \"samples\": [\n          72.2706969107244,\n          72.52695166645383,\n          74.00321848707108\n        ],\n        \"semantic_type\": \"\",\n        \"description\": \"\"\n      }\n    },\n    {\n      \"column\": \"REC4\",\n      \"properties\": {\n        \"dtype\": \"number\",\n        \"std\": 1.0384518690724123,\n        \"min\": 10.522454665976063,\n        \"max\": 18.58191056397445,\n        \"num_unique_values\": 4200,\n        \"samples\": [\n          15.043639390531602,\n          15.105463661816346,\n          13.556008505307002\n        ],\n        \"semantic_type\": \"\",\n        \"description\": \"\"\n      }\n    },\n    {\n      \"column\": \"REC5\",\n      \"properties\": {\n        \"dtype\": \"number\",\n        \"std\": 1.0166609874711203,\n        \"min\": 86.49827298099409,\n        \"max\": 93.45909401064824,\n        \"num_unique_values\": 4200,\n        \"samples\": [\n          90.85984448152372,\n          89.98983320991618,\n          90.20353732001726\n        ],\n        \"semantic_type\": \"\",\n        \"description\": \"\"\n      }\n    },\n    {\n      \"column\": \"BLD02\",\n      \"properties\": {\n        \"dtype\": \"number\",\n        \"std\": 1.013155956663467,\n        \"min\": -3.081165755805334,\n        \"max\": 4.717948304432347,\n        \"num_unique_values\": 4200,\n        \"samples\": [\n          0.0774915030192024,\n          1.4997398472023025,\n          1.7064355701966964\n        ],\n        \"semantic_type\": \"\",\n        \"description\": \"\"\n      }\n    },\n    {\n      \"column\": \"BLD03\",\n      \"properties\": {\n        \"dtype\": \"number\",\n        \"std\": 0.9958714196688425,\n        \"min\": -3.627277483050016,\n        \"max\": 4.105408576271446,\n        \"num_unique_values\": 4200,\n        \"samples\": [\n          -0.2288075346864267,\n          1.0181830686865896,\n          -0.221466177914558\n        ],\n        \"semantic_type\": \"\",\n        \"description\": \"\"\n      }\n    },\n    {\n      \"column\": \"Laboral_Activo\",\n      \"properties\": {\n        \"dtype\": \"number\",\n        \"std\": 0.4945810295241906,\n        \"min\": 0.0,\n        \"max\": 1.0,\n        \"num_unique_values\": 2,\n        \"samples\": [\n          1.0,\n          0.0\n        ],\n        \"semantic_type\": \"\",\n        \"description\": \"\"\n      }\n    },\n    {\n      \"column\": \"Laboral_Inactivo\",\n      \"properties\": {\n        \"dtype\": \"number\",\n        \"std\": 0.5000513701369403,\n        \"min\": 0.0,\n        \"max\": 1.0,\n        \"num_unique_values\": 2,\n        \"samples\": [\n          0.0,\n          1.0\n        ],\n        \"semantic_type\": \"\",\n        \"description\": \"\"\n      }\n    },\n    {\n      \"column\": \"Laboral_No_declara\",\n      \"properties\": {\n        \"dtype\": \"number\",\n        \"std\": 0.26609349372011204,\n        \"min\": 0.0,\n        \"max\": 1.0,\n        \"num_unique_values\": 2,\n        \"samples\": [\n          1.0,\n          0.0\n        ],\n        \"semantic_type\": \"\",\n        \"description\": \"\"\n      }\n    },\n    {\n      \"column\": \"binding_high\",\n      \"properties\": {\n        \"dtype\": \"number\",\n        \"std\": 0.39897207423680625,\n        \"min\": 0.0,\n        \"max\": 1.0,\n        \"num_unique_values\": 2,\n        \"samples\": [\n          1.0,\n          0.0\n        ],\n        \"semantic_type\": \"\",\n        \"description\": \"\"\n      }\n    },\n    {\n      \"column\": \"binding_low\",\n      \"properties\": {\n        \"dtype\": \"number\",\n        \"std\": 0.46807363162138566,\n        \"min\": 0.0,\n        \"max\": 1.0,\n        \"num_unique_values\": 2,\n        \"samples\": [\n          0.0,\n          1.0\n        ],\n        \"semantic_type\": \"\",\n        \"description\": \"\"\n      }\n    },\n    {\n      \"column\": \"binding_medium\",\n      \"properties\": {\n        \"dtype\": \"number\",\n        \"std\": 0.3312975233360088,\n        \"min\": 0.0,\n        \"max\": 1.0,\n        \"num_unique_values\": 2,\n        \"samples\": [\n          1.0,\n          0.0\n        ],\n        \"semantic_type\": \"\",\n        \"description\": \"\"\n      }\n    }\n  ]\n}"
            }
          },
          "metadata": {},
          "execution_count": 23
        }
      ]
    },
    {
      "cell_type": "code",
      "source": [
        "# prompt: implement decision tree with hyperparameter optimization.\n",
        "\n",
        "from sklearn.tree import DecisionTreeClassifier\n",
        "from sklearn.model_selection import GridSearchCV\n",
        "from sklearn.metrics import make_scorer, f1_score, precision_score\n",
        "\n",
        "# Define the parameter grid to search\n",
        "param_grid = {\n",
        "    'max_depth': [None, 5, 10, 15, 20],\n",
        "    'min_samples_split': [2, 5, 10, 20],\n",
        "    'min_samples_leaf': [1, 2, 4, 8],\n",
        "    'criterion': ['gini', 'entropy']\n",
        "}\n",
        "\n",
        "# Create a Decision Tree Classifier\n",
        "dt_classifier = DecisionTreeClassifier(random_state=42)\n",
        "\n",
        "# Define the scoring metric (F1-score is often suitable for imbalanced classes)\n",
        "# Since we want to minimize false positives and maximize catching positives,\n",
        "# F1-score is a reasonable metric as it balances precision and recall.\n",
        "# You could also consider using roc_auc or recall, depending on the exact\n",
        "# business requirements.\n",
        "f1_scorer = make_scorer(f1_score)\n",
        "\n",
        "\n",
        "# Create the GridSearchCV object\n",
        "grid_search = GridSearchCV(estimator=dt_classifier, param_grid=param_grid,\n",
        "                           scoring=f1_scorer, cv=5, n_jobs=-1, verbose=1)\n",
        "\n",
        "# Fit the grid search to the training data\n",
        "grid_search.fit(x_train, y_train)\n",
        "\n",
        "# Get the best parameters and the best score\n",
        "best_params = grid_search.best_params_\n",
        "best_score = grid_search.best_score_\n",
        "\n",
        "print(\"Best Hyperparameters:\", best_params)\n",
        "print(\"Best F1-score (cross-validation):\", best_score)\n",
        "\n",
        "# Get the best model\n",
        "best_dt_model = grid_search.best_estimator_\n",
        "\n",
        "# Evaluate the best model on the test set\n",
        "y_pred = best_dt_model.predict(x_test)\n",
        "\n",
        "# Calculate F1-score on the test set\n",
        "test_f1_score = f1_score(y_test, y_pred)\n",
        "print(\"F1-score on the test set:\", test_f1_score)\n",
        "\n",
        "# Assign the best model to the f_clf variable (as required by the exam structure)\n",
        "f_clf = best_dt_model\n"
      ],
      "metadata": {
        "colab": {
          "base_uri": "https://localhost:8080/"
        },
        "id": "kK3QmJWY9wu-",
        "outputId": "b452d2a8-988d-4753-b986-6c44eb22796a"
      },
      "execution_count": null,
      "outputs": [
        {
          "output_type": "stream",
          "name": "stdout",
          "text": [
            "Fitting 5 folds for each of 160 candidates, totalling 800 fits\n",
            "Best Hyperparameters: {'criterion': 'entropy', 'max_depth': 5, 'min_samples_leaf': 1, 'min_samples_split': 10}\n",
            "Best F1-score (cross-validation): 0.7786106042193169\n",
            "F1-score on the test set: 0.6770601336302895\n"
          ]
        }
      ]
    },
    {
      "cell_type": "code",
      "source": [
        "# prompt: implement decision tree with hyperparameter optimization for precision\n",
        "\n",
        "# Define the scoring metric for precision\n",
        "precision_scorer = make_scorer(precision_score)\n",
        "\n",
        "# Create the GridSearchCV object for precision\n",
        "grid_search_precision = GridSearchCV(estimator=dt_classifier, param_grid=param_grid,\n",
        "                                    scoring=precision_scorer, cv=5, n_jobs=-1, verbose=1)\n",
        "\n",
        "# Fit the grid search to the training data for precision optimization\n",
        "grid_search_precision.fit(x_train, y_train)\n",
        "\n",
        "# Get the best parameters and the best score for precision\n",
        "best_params_precision = grid_search_precision.best_params_\n",
        "best_score_precision = grid_search_precision.best_score_\n",
        "\n",
        "print(\"\\nBest Hyperparameters for Precision:\", best_params_precision)\n",
        "print(\"Best Precision (cross-validation):\", best_score_precision)\n",
        "\n",
        "# Get the best model for precision\n",
        "best_dt_model_precision = grid_search_precision.best_estimator_\n",
        "\n",
        "# Evaluate the best precision model on the test set\n",
        "y_pred_precision = best_dt_model_precision.predict(x_test)\n",
        "\n",
        "# Calculate Precision on the test set\n",
        "test_precision_score = precision_score(y_test, y_pred_precision)\n",
        "print(\"Precision on the test set:\", test_precision_score)\n",
        "\n",
        "# If maximizing precision is the primary goal, assign this model to f_clf\n",
        "# If there's a balance needed, you might stick with the F1 optimized model or\n",
        "# perform a trade-off analysis. Based on the problem description emphasizing\n",
        "# minimizing false positives, optimizing for precision directly seems appropriate.\n",
        "f_clf = best_dt_model_precision\n"
      ],
      "metadata": {
        "colab": {
          "base_uri": "https://localhost:8080/"
        },
        "id": "mh_4GOx3ZBbf",
        "outputId": "47a7ce1a-a674-4e81-e1ae-3d351c0688b9"
      },
      "execution_count": null,
      "outputs": [
        {
          "output_type": "stream",
          "name": "stdout",
          "text": [
            "Fitting 5 folds for each of 160 candidates, totalling 800 fits\n",
            "\n",
            "Best Hyperparameters for Precision: {'criterion': 'entropy', 'max_depth': 5, 'min_samples_leaf': 1, 'min_samples_split': 10}\n",
            "Best Precision (cross-validation): 0.7786106042193169\n",
            "Precision on the test set: 0.7875647668393783\n"
          ]
        }
      ]
    },
    {
      "cell_type": "code",
      "source": [
        "from sklearn.metrics import classification_report\n",
        "\n",
        "print(classification_report(y_test, y_pred))"
      ],
      "metadata": {
        "colab": {
          "base_uri": "https://localhost:8080/"
        },
        "id": "mrNV-fzi_P5d",
        "outputId": "1dbcbf7b-65e4-45ca-96ae-f33d7bd62ba0"
      },
      "execution_count": null,
      "outputs": [
        {
          "output_type": "stream",
          "name": "stdout",
          "text": [
            "              precision    recall  f1-score   support\n",
            "\n",
            "           0       0.76      0.89      0.82       748\n",
            "           1       0.79      0.59      0.68       512\n",
            "\n",
            "    accuracy                           0.77      1260\n",
            "   macro avg       0.77      0.74      0.75      1260\n",
            "weighted avg       0.77      0.77      0.76      1260\n",
            "\n"
          ]
        }
      ]
    },
    {
      "cell_type": "markdown",
      "metadata": {
        "id": "gLSf64ttbjzD"
      },
      "source": [
        "## Evaluacion final - Docente + Alumno\n",
        "\n",
        "\n"
      ]
    },
    {
      "cell_type": "code",
      "execution_count": null,
      "metadata": {
        "id": "nCS4XxdnbjzD"
      },
      "outputs": [],
      "source": [
        "# import pandas as pd\n",
        "# from sklearn.metrics import classification_report\n",
        "# from sklearn.model_selection import train_test_split\n",
        "\n",
        "# PRODUCCION = False\n",
        "# best_clf = None #Asignar aqui el mejor clasificador/pipeline posible (previamente entrenado si es necesario)\n",
        "\n",
        "# #Leemos el dataset de evaluación, simulando producción\n",
        "# if PRODUCCION==False:\n",
        "#     df = pd.read_csv(\"TP_Virus_Alumnos.csv\")\n",
        "#     _, df = train_test_split(df, test_size=0.3, random_state=42)\n",
        "# else:\n",
        "#     df = pd.read_csv(\"TP_Virus_Evaluacion.csv\")\n",
        "# #Dividimos en target y predictoras\n",
        "\n",
        "# X_prod = df.drop(\"target\", axis=1)\n",
        "# y_prod = df[\"target\"]\n",
        "\n",
        "# #Transformaciones en caso de no ser un pipeline completo. Preferiblemente, el mejor pipeline debe incluir todas las transformaciones necesarias.\n",
        "# #Si es pipeline ejecutar el fit (tener en cuenta el tiempo). Si mediante exploración / busqueda exhaustiva se encontró el mejor clasificador\n",
        "# #harcodear sus hiperparametros (Adjuntar código y explicación de como se encontró el mejor clasificador).\n",
        "\n",
        "# #Evaluación final\n",
        "# y_pred = best_clf.predict(X_prod)\n",
        "# print(classification_report(y_prod, y_pred))"
      ]
    }
  ],
  "metadata": {
    "kernelspec": {
      "display_name": "Python 3",
      "language": "python",
      "name": "python3"
    },
    "language_info": {
      "codemirror_mode": {
        "name": "ipython",
        "version": 3
      },
      "file_extension": ".py",
      "mimetype": "text/x-python",
      "name": "python",
      "nbconvert_exporter": "python",
      "pygments_lexer": "ipython3",
      "version": "3.10.1"
    },
    "colab": {
      "provenance": [],
      "include_colab_link": true
    }
  },
  "nbformat": 4,
  "nbformat_minor": 0
}